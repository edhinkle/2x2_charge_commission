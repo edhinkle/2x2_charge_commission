{
 "cells": [
  {
   "cell_type": "code",
   "execution_count": 1,
   "id": "4b371527-7f0f-413f-8368-6eca8b124473",
   "metadata": {
    "tags": []
   },
   "outputs": [],
   "source": [
    "import sys\n",
    "import warnings\n",
    "from datetime import datetime\n",
    "import numpy as np\n",
    "import glob\n",
    "import h5py\n",
    "from IPython.display import display, clear_output\n",
    "import yaml\n",
    "import matplotlib\n",
    "import matplotlib.pyplot as plt\n",
    "import mpl_toolkits.mplot3d.art3d as art3d\n",
    "from matplotlib.colors import ListedColormap\n",
    "from mpl_toolkits.axes_grid1.inset_locator import InsetPosition\n",
    "import os\n",
    "from matplotlib.backends.backend_pdf import PdfPages"
   ]
  },
  {
   "cell_type": "code",
   "execution_count": 2,
   "id": "abe9f1f7-064c-4324-842c-f880842f9a4c",
   "metadata": {
    "tags": []
   },
   "outputs": [
    {
     "name": "stdout",
     "output_type": "stream",
     "text": [
      "Number of H5 Files0: 14\n",
      "Number of H5 Files1: 29\n",
      "Number of H5 Files: 43\n",
      "(10, 1, 3, 6, 9, 4, 0, 12, 5, 13, 2, 11, 8, 7, 27, 28, 14, 25, 36, 31, 34, 20, 19, 39, 40, 38, 37, 21, 41, 33, 42, 29, 30, 26, 16, 22, 24, 35, 18, 23, 17, 32, 15)\n",
      "('11_05_50', '11_09_11', '12_00_12', '12_05_47', '12_10_12', '12_20_20', '12_23_05', '12_26_16', '12_28_16', '12_36_05', '12_36_38', '12_37_09', '12_37_40', '12_38_11', '12_46_05', '12_56_07', '13_06_08', '13_16_09', '13_26_10', '13_36_11', '13_46_12', '13_56_13', '14_06_15', '14_16_16', '14_26_17', '14_36_18', '14_46_19', '14_56_20', '15_06_21', '15_26_41', '15_27_18', '15_32_20', '18_18_23', '18_28_25', '18_38_26', '18_48_27', '18_58_29', '19_08_30', '19_18_31', '19_28_32', '19_38_33', '19_48_34', '19_58_35')\n"
     ]
    }
   ],
   "source": [
    "# Data directory:\n",
    "#dir = '/global/cfs/cdirs/dune/www/data/2x2/CRS/commission/May2024/self_trigger_m0_test'\n",
    "#dir = '/global/cfs/cdirs/dune/www/data/2x2/CRS/commission/April2024/self_trigger_test_apr30'\n",
    "dir1 = '/global/cfs/cdirs/dune/www/data/2x2/nearline/packet/commission/May2024/self_trigger_m0_test'\n",
    "dir0 = '/global/cfs/cdirs/dune/www/data/2x2/nearline/packet/commission/April2024/self_trigger_test_apr30'\n",
    "ext = 'packet*2024_05_02*5'\n",
    "h5_files0 = glob.glob(f'{dir0}/{ext}')\n",
    "h5_files1 = glob.glob(f'{dir1}/{ext}')\n",
    "h5_files = h5_files0 + h5_files1\n",
    "#print(h5_files)\n",
    "print(\"Number of H5 Files0:\", len(h5_files0))\n",
    "print(\"Number of H5 Files1:\", len(h5_files1))\n",
    "print(\"Number of H5 Files:\", len(h5_files))\n",
    "#print(h5_files)\n",
    "time_only_list = []\n",
    "for file in h5_files:\n",
    "    file_name = file.split(\"/\")[-1]\n",
    "    date = file_name.split(\"_CDT\")[0]\n",
    "    time_only = date.split(\"2024_05_02_\")[-1]\n",
    "    time_only_list.append(time_only)\n",
    "    \n",
    "# Pair each string with its original position\n",
    "indexed_time_only = list(enumerate(time_only_list))\n",
    "\n",
    "# Sort the pairs by string\n",
    "sorted_pairs = sorted(indexed_time_only, key=lambda pair: pair[1])\n",
    "\n",
    "# Separate the positions and sorted strings\n",
    "time_positions, sorted_strings = zip(*sorted_pairs)\n",
    "print(time_positions)\n",
    "print(sorted_strings)"
   ]
  },
  {
   "cell_type": "code",
   "execution_count": 3,
   "id": "e73cf8b5-f2b8-41bb-a21a-b53b7cdb29ea",
   "metadata": {
    "tags": []
   },
   "outputs": [
    {
     "name": "stdout",
     "output_type": "stream",
     "text": [
      "------------------------------------\n",
      "File: /global/cfs/cdirs/dune/www/data/2x2/nearline/packet/commission/April2024/self_trigger_test_apr30/packet-0000003-2024_05_02_11_05_50_CDT.hdf5\n",
      "[]\n",
      "PACKETS: ('io_group', 'io_channel', 'chip_id', 'packet_type', 'downstream_marker', 'parity', 'valid_parity', 'channel_id', 'timestamp', 'dataword', 'trigger_type', 'local_fifo', 'shared_fifo', 'register_address', 'register_data', 'direction', 'local_fifo_events', 'shared_fifo_events', 'counter', 'fifo_diagnostics_enabled', 'first_packet', 'receipt_timestamp')\n",
      "Number of packets: 6519256\n",
      "Max Timestamp: 2147483647\n",
      "------------------------------------\n",
      "Number of Packets with Dataword==128: 61108\n",
      "Packet types represented: [0]\n",
      "------------------------------------\n",
      "------------------------------------\n",
      "File: /global/cfs/cdirs/dune/www/data/2x2/nearline/packet/commission/April2024/self_trigger_test_apr30/packet-0000003-2024_05_02_11_09_11_CDT.hdf5\n",
      "[]\n",
      "Number of packets: 281361397\n",
      "Max Timestamp: 4294967295\n",
      "------------------------------------\n"
     ]
    },
    {
     "ename": "KeyboardInterrupt",
     "evalue": "",
     "output_type": "error",
     "traceback": [
      "\u001b[0;31m---------------------------------------------------------------------------\u001b[0m",
      "\u001b[0;31mKeyboardInterrupt\u001b[0m                         Traceback (most recent call last)",
      "Cell \u001b[0;32mIn[3], line 29\u001b[0m\n\u001b[1;32m     27\u001b[0m \u001b[38;5;28mprint\u001b[39m(\u001b[38;5;124m\"\u001b[39m\u001b[38;5;124mMax Timestamp:\u001b[39m\u001b[38;5;124m\"\u001b[39m, np\u001b[38;5;241m.\u001b[39mmax(np\u001b[38;5;241m.\u001b[39marray(f[\u001b[38;5;124m'\u001b[39m\u001b[38;5;124mpackets\u001b[39m\u001b[38;5;124m'\u001b[39m][\u001b[38;5;124m'\u001b[39m\u001b[38;5;124mtimestamp\u001b[39m\u001b[38;5;124m'\u001b[39m])))\n\u001b[1;32m     28\u001b[0m \u001b[38;5;28mprint\u001b[39m(\u001b[38;5;124m\"\u001b[39m\u001b[38;5;124m------------------------------------\u001b[39m\u001b[38;5;124m\"\u001b[39m)\n\u001b[0;32m---> 29\u001b[0m weird_dw \u001b[38;5;241m=\u001b[39m np\u001b[38;5;241m.\u001b[39mwhere(np\u001b[38;5;241m.\u001b[39marray(\u001b[43mf\u001b[49m\u001b[43m[\u001b[49m\u001b[38;5;124;43m'\u001b[39;49m\u001b[38;5;124;43mpackets\u001b[39;49m\u001b[38;5;124;43m'\u001b[39;49m\u001b[43m]\u001b[49m\u001b[43m[\u001b[49m\u001b[38;5;124;43m'\u001b[39;49m\u001b[38;5;124;43mdataword\u001b[39;49m\u001b[38;5;124;43m'\u001b[39;49m\u001b[43m]\u001b[49m) \u001b[38;5;241m==\u001b[39m \u001b[38;5;241m128\u001b[39m)\n\u001b[1;32m     30\u001b[0m datawords \u001b[38;5;241m=\u001b[39m f[\u001b[38;5;124m'\u001b[39m\u001b[38;5;124mpackets\u001b[39m\u001b[38;5;124m'\u001b[39m][\u001b[38;5;124m'\u001b[39m\u001b[38;5;124mdataword\u001b[39m\u001b[38;5;124m'\u001b[39m][weird_dw]\n\u001b[1;32m     31\u001b[0m timestamps \u001b[38;5;241m=\u001b[39m f[\u001b[38;5;124m'\u001b[39m\u001b[38;5;124mpackets\u001b[39m\u001b[38;5;124m'\u001b[39m][\u001b[38;5;124m'\u001b[39m\u001b[38;5;124mtimestamp\u001b[39m\u001b[38;5;124m'\u001b[39m][weird_dw]\n",
      "File \u001b[0;32mh5py/_objects.pyx:54\u001b[0m, in \u001b[0;36mh5py._objects.with_phil.wrapper\u001b[0;34m()\u001b[0m\n",
      "File \u001b[0;32mh5py/_objects.pyx:55\u001b[0m, in \u001b[0;36mh5py._objects.with_phil.wrapper\u001b[0;34m()\u001b[0m\n",
      "File \u001b[0;32m/global/common/software/nersc/pe/conda-envs/24.1.0/python-3.11/nersc-python/lib/python3.11/site-packages/h5py/_hl/dataset.py:777\u001b[0m, in \u001b[0;36mDataset.__getitem__\u001b[0;34m(self, args, new_dtype)\u001b[0m\n\u001b[1;32m    775\u001b[0m         names \u001b[38;5;241m=\u001b[39m names[\u001b[38;5;241m0\u001b[39m]  \u001b[38;5;66;03m# Read with simpler dtype of this field\u001b[39;00m\n\u001b[1;32m    776\u001b[0m     args \u001b[38;5;241m=\u001b[39m \u001b[38;5;28mtuple\u001b[39m(x \u001b[38;5;28;01mfor\u001b[39;00m x \u001b[38;5;129;01min\u001b[39;00m args \u001b[38;5;28;01mif\u001b[39;00m \u001b[38;5;129;01mnot\u001b[39;00m \u001b[38;5;28misinstance\u001b[39m(x, \u001b[38;5;28mstr\u001b[39m))\n\u001b[0;32m--> 777\u001b[0m     \u001b[38;5;28;01mreturn\u001b[39;00m \u001b[38;5;28;43mself\u001b[39;49m\u001b[38;5;241;43m.\u001b[39;49m\u001b[43mfields\u001b[49m\u001b[43m(\u001b[49m\u001b[43mnames\u001b[49m\u001b[43m,\u001b[49m\u001b[43m \u001b[49m\u001b[43m_prior_dtype\u001b[49m\u001b[38;5;241;43m=\u001b[39;49m\u001b[43mnew_dtype\u001b[49m\u001b[43m)\u001b[49m\u001b[43m[\u001b[49m\u001b[43margs\u001b[49m\u001b[43m]\u001b[49m\n\u001b[1;32m    779\u001b[0m \u001b[38;5;28;01mif\u001b[39;00m new_dtype \u001b[38;5;129;01mis\u001b[39;00m \u001b[38;5;28;01mNone\u001b[39;00m:\n\u001b[1;32m    780\u001b[0m     new_dtype \u001b[38;5;241m=\u001b[39m \u001b[38;5;28mself\u001b[39m\u001b[38;5;241m.\u001b[39mdtype\n",
      "File \u001b[0;32m/global/common/software/nersc/pe/conda-envs/24.1.0/python-3.11/nersc-python/lib/python3.11/site-packages/h5py/_hl/dataset.py:278\u001b[0m, in \u001b[0;36mFieldsWrapper.__getitem__\u001b[0;34m(self, args)\u001b[0m\n\u001b[1;32m    277\u001b[0m \u001b[38;5;28;01mdef\u001b[39;00m \u001b[38;5;21m__getitem__\u001b[39m(\u001b[38;5;28mself\u001b[39m, args):\n\u001b[0;32m--> 278\u001b[0m     data \u001b[38;5;241m=\u001b[39m \u001b[38;5;28;43mself\u001b[39;49m\u001b[38;5;241;43m.\u001b[39;49m\u001b[43m_dset\u001b[49m\u001b[38;5;241;43m.\u001b[39;49m\u001b[38;5;21;43m__getitem__\u001b[39;49m\u001b[43m(\u001b[49m\u001b[43margs\u001b[49m\u001b[43m,\u001b[49m\u001b[43m \u001b[49m\u001b[43mnew_dtype\u001b[49m\u001b[38;5;241;43m=\u001b[39;49m\u001b[38;5;28;43mself\u001b[39;49m\u001b[38;5;241;43m.\u001b[39;49m\u001b[43mread_dtype\u001b[49m\u001b[43m)\u001b[49m\n\u001b[1;32m    279\u001b[0m     \u001b[38;5;28;01mif\u001b[39;00m \u001b[38;5;28mself\u001b[39m\u001b[38;5;241m.\u001b[39mextract_field \u001b[38;5;129;01mis\u001b[39;00m \u001b[38;5;129;01mnot\u001b[39;00m \u001b[38;5;28;01mNone\u001b[39;00m:\n\u001b[1;32m    280\u001b[0m         data \u001b[38;5;241m=\u001b[39m data[\u001b[38;5;28mself\u001b[39m\u001b[38;5;241m.\u001b[39mextract_field]\n",
      "File \u001b[0;32mh5py/_objects.pyx:54\u001b[0m, in \u001b[0;36mh5py._objects.with_phil.wrapper\u001b[0;34m()\u001b[0m\n",
      "File \u001b[0;32mh5py/_objects.pyx:55\u001b[0m, in \u001b[0;36mh5py._objects.with_phil.wrapper\u001b[0;34m()\u001b[0m\n",
      "File \u001b[0;32m/global/common/software/nersc/pe/conda-envs/24.1.0/python-3.11/nersc-python/lib/python3.11/site-packages/h5py/_hl/dataset.py:841\u001b[0m, in \u001b[0;36mDataset.__getitem__\u001b[0;34m(self, args, new_dtype)\u001b[0m\n\u001b[1;32m    839\u001b[0m mspace \u001b[38;5;241m=\u001b[39m h5s\u001b[38;5;241m.\u001b[39mcreate_simple(selection\u001b[38;5;241m.\u001b[39mmshape)\n\u001b[1;32m    840\u001b[0m fspace \u001b[38;5;241m=\u001b[39m selection\u001b[38;5;241m.\u001b[39mid\n\u001b[0;32m--> 841\u001b[0m \u001b[38;5;28;43mself\u001b[39;49m\u001b[38;5;241;43m.\u001b[39;49m\u001b[43mid\u001b[49m\u001b[38;5;241;43m.\u001b[39;49m\u001b[43mread\u001b[49m\u001b[43m(\u001b[49m\u001b[43mmspace\u001b[49m\u001b[43m,\u001b[49m\u001b[43m \u001b[49m\u001b[43mfspace\u001b[49m\u001b[43m,\u001b[49m\u001b[43m \u001b[49m\u001b[43marr\u001b[49m\u001b[43m,\u001b[49m\u001b[43m \u001b[49m\u001b[43mmtype\u001b[49m\u001b[43m,\u001b[49m\u001b[43m \u001b[49m\u001b[43mdxpl\u001b[49m\u001b[38;5;241;43m=\u001b[39;49m\u001b[38;5;28;43mself\u001b[39;49m\u001b[38;5;241;43m.\u001b[39;49m\u001b[43m_dxpl\u001b[49m\u001b[43m)\u001b[49m\n\u001b[1;32m    843\u001b[0m \u001b[38;5;66;03m# Patch up the output for NumPy\u001b[39;00m\n\u001b[1;32m    844\u001b[0m \u001b[38;5;28;01mif\u001b[39;00m arr\u001b[38;5;241m.\u001b[39mshape \u001b[38;5;241m==\u001b[39m ():\n",
      "\u001b[0;31mKeyboardInterrupt\u001b[0m: "
     ]
    }
   ],
   "source": [
    "with PdfPages('output_full.pdf') as output:\n",
    "    # Test what's in files\n",
    "    for i in range(len(h5_files)):\n",
    "        \n",
    "        #if i>1: continue\n",
    "        file_number = time_positions[i]\n",
    "        file = h5_files[file_number]\n",
    "        print(\"------------------------------------\")\n",
    "        print(\"File:\", file)\n",
    "        f = h5py.File(file,'r')\n",
    "        print(list(f['packets'].attrs))\n",
    "        if i==0: \n",
    "            print(\"PACKETS:\", f['packets'].dtype.names)\n",
    "        #print(\"File keys:\", f.keys())\n",
    "        #print(\"CONFIGS:\", f['configs'].dtype.names)\n",
    "        #print(\"Timestamp config:\", f['configs']['timestamp'][:])\n",
    "        #print(\"IO Group config:\", f['configs']['io_group'][:])\n",
    "        #print(\"IO Channel config:\", f['configs']['io_channel'][:])\n",
    "        #print(\"Chip ID config:\", f['configs']['chip_id'][:])\n",
    "        #print(\"Registers config:\", f['configs']['registers'][:])\n",
    "        #print('MESSAGES:', f['messages'].dtype.names)\n",
    "        #print(\"Timestamp message:\", f['messages']['timestamp'][:])\n",
    "        #print(\"Message message:\", f['messages']['message'][:])\n",
    "        #print(\"Index message:\", f['messages']['index'][:])\n",
    "        #print(\"PACKETS:\", f['packets'].dtype.names)\n",
    "        print(\"Number of packets:\", len(f['packets']))\n",
    "        print(\"Max Timestamp:\", np.max(np.array(f['packets']['timestamp'])))\n",
    "        print(\"------------------------------------\")\n",
    "        weird_dw = np.where(np.array(f['packets']['dataword']) == 128)\n",
    "        datawords = f['packets']['dataword'][weird_dw]\n",
    "        timestamps = f['packets']['timestamp'][weird_dw]\n",
    "        chip_ids = f['packets']['chip_id'][weird_dw]\n",
    "        packet_type = f['packets']['packet_type'][weird_dw]\n",
    "        print(\"Number of Packets with Dataword==128:\", len(datawords))\n",
    "        #print(\"Timestamps length:\", len(timestamps))\n",
    "        print(\"Packet types represented:\", np.unique(np.array(packet_type)))\n",
    "        \n",
    "        output.attach_note(\"File: \"+file+\"\\nNumber of packets: \"+str(len(datawords))+\"\\nNumber of packets w/ dataword==128: \"+str(len(datawords))+\"\\nTypes of packets w/ dw == 128: \"+str(np.unique(np.array(packet_type))))\n",
    "        #plt.hist2d(timestamps, chip_ids, density=datawords)\n",
    "        #plt.show()\n",
    "        \n",
    "        \n",
    "        #plt.scatter(timestamps, datawords, color='red', s=1)\n",
    "        #plt.xlabel('Timestamp')\n",
    "        #plt.ylabel('Dataword')\n",
    "        #plt.show()\n",
    "        \n",
    "        #plt.scatter(chip_ids, datawords, color='blue', s=1)\n",
    "        #plt.hist2d(chip_ids, datawords, bins=[np.max(chip_ids), 10])\n",
    "        #plt.xlabel('Chip ID')\n",
    "        #plt.ylabel('Dataword')\n",
    "        #plt.show()\n",
    "        \n",
    "        plt.scatter(timestamps, chip_ids, color='green', s=1)\n",
    "        plt.xlabel('Timestamp')\n",
    "        plt.ylabel('Chip ID')\n",
    "        output.savefig()\n",
    "        plt.close()\n",
    "    \n",
    "        \n",
    "        print(\"------------------------------------\")\n",
    "        \n",
    "        #print(\"Packet types:\", np.unique(np.array(packet_type)))\n",
    "        #plt.hist(packet_type, bins=np.max(np.unique(np.array(packet_type))))\n",
    "        "
   ]
  },
  {
   "cell_type": "code",
   "execution_count": null,
   "id": "9eb83643-ff11-4ae2-b7a6-dce3de622881",
   "metadata": {},
   "outputs": [],
   "source": []
  },
  {
   "cell_type": "code",
   "execution_count": null,
   "id": "59e2fabb-1d29-4c45-bdcc-8ff3f908286a",
   "metadata": {},
   "outputs": [],
   "source": []
  }
 ],
 "metadata": {
  "kernelspec": {
   "display_name": "Python 3 (ipykernel)",
   "language": "python",
   "name": "python3"
  },
  "language_info": {
   "codemirror_mode": {
    "name": "ipython",
    "version": 3
   },
   "file_extension": ".py",
   "mimetype": "text/x-python",
   "name": "python",
   "nbconvert_exporter": "python",
   "pygments_lexer": "ipython3",
   "version": "3.11.7"
  }
 },
 "nbformat": 4,
 "nbformat_minor": 5
}
